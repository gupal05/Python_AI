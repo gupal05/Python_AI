{
 "cells": [
  {
   "cell_type": "code",
   "execution_count": 1,
   "metadata": {},
   "outputs": [],
   "source": [
    "import json\n",
    "from langchain_community.chat_models import ChatOllama\n",
    "from langchain_core.messages import HumanMessage\n",
    "from langchain_core.output_parsers import StrOutputParser\n",
    "from langchain_core.prompts import ChatPromptTemplate"
   ]
  },
  {
   "cell_type": "code",
   "execution_count": 2,
   "metadata": {},
   "outputs": [],
   "source": [
    "json_schema = {\n",
    "    \"title\" : \"Person\",\n",
    "    \"description\": \"Identifying information about a person.\",\n",
    "    \"type\": \"object\",\n",
    "    \"properties\": {\n",
    "        \"name\" : {\"title\": \"Name\", \"description\": \"The person's name\", \"type\": \"string\"},\n",
    "        \"age\": {\"title\": \"Age\", \"description\": \"The person's age\", \"type\": \"integer\"},\n",
    "        \"occupation\": {\n",
    "            \"title\": \"Occupation\",\n",
    "            \"description\": \"The person's Occupation\",\n",
    "            \"type\": \"string\",\n",
    "        },\n",
    "    },\n",
    "    \"required\": [\"name\", \"age\"],\n",
    "}"
   ]
  },
  {
   "cell_type": "code",
   "execution_count": 3,
   "metadata": {},
   "outputs": [
    {
     "name": "stderr",
     "output_type": "stream",
     "text": [
      "C:\\Users\\human-13\\AppData\\Local\\Temp\\ipykernel_1788\\3255660932.py:1: LangChainDeprecationWarning: The class `ChatOllama` was deprecated in LangChain 0.3.1 and will be removed in 1.0.0. An updated version of the class exists in the :class:`~langchain-ollama package and should be used instead. To use it run `pip install -U :class:`~langchain-ollama` and import as `from :class:`~langchain_ollama import ChatOllama``.\n",
      "  llm = ChatOllama(model=\"gemma2\")\n"
     ]
    }
   ],
   "source": [
    "llm = ChatOllama(model=\"gemma2\")"
   ]
  },
  {
   "cell_type": "code",
   "execution_count": 4,
   "metadata": {},
   "outputs": [],
   "source": [
    "messages = [\n",
    "    HumanMessage(\n",
    "        content = \"Please tell me about a person using the following JSON schema:\"\n",
    "    ),\n",
    "    HumanMessage(content=\"{dumps}\"),\n",
    "    HumanMessage(\n",
    "        content=\"\"\"Now, considering the schema, please describe following person:\n",
    "        Her name is Eun-Chae Lee, she is 25 years old, and she is a software engineer.\n",
    "        \"\"\"\n",
    "    ),\n",
    "]"
   ]
  },
  {
   "cell_type": "code",
   "execution_count": 5,
   "metadata": {},
   "outputs": [],
   "source": [
    "prompt = ChatPromptTemplate.from_messages(\n",
    "    messages\n",
    ")"
   ]
  },
  {
   "cell_type": "code",
   "execution_count": 6,
   "metadata": {},
   "outputs": [],
   "source": [
    "dumps = json.dumps(json_schema, indent=2)"
   ]
  },
  {
   "cell_type": "code",
   "execution_count": 7,
   "metadata": {},
   "outputs": [],
   "source": [
    "chain = (\n",
    "    prompt | llm | StrOutputParser()\n",
    ")"
   ]
  },
  {
   "cell_type": "code",
   "execution_count": 8,
   "metadata": {},
   "outputs": [
    {
     "data": {
      "text/plain": [
       "'Let\\'s break down how we can represent Eun-Chae Lee using that JSON schema. \\n\\n**Understanding the Schema:**\\n\\nThe provided schema defines the structure of information we can store about a person. It tells us:\\n\\n* **Required Fields:** `name`, `age`, `occupation` are mandatory pieces of information.\\n* **Data Types:**\\n    * `name`: A string representing the person\\'s full name.\\n    * `age`: A number representing the person\\'s age in years.\\n    * `occupation`: A string describing the person\\'s job or profession.\\n\\n**Representing Eun-Chae Lee:**\\n\\nGiven the schema, we can represent Eun-Chae Lee as follows:\\n\\n```json\\n{\\n  \"name\": \"Eun-Chae Lee\",\\n  \"age\": 25,\\n  \"occupation\": \"Software Engineer\"\\n}\\n```\\n\\n\\n**Description:**\\n\\nThis JSON object accurately reflects the information about Eun-Chae Lee based on the schema. \\n\\n* Her name is \"Eun-Chae Lee.\"\\n* She is 25 years old.\\n* Her occupation is \"Software Engineer.\" \\n\\n\\n\\nLet me know if you\\'d like to explore how this schema could be expanded to include additional details about a person!'"
      ]
     },
     "execution_count": 8,
     "metadata": {},
     "output_type": "execute_result"
    }
   ],
   "source": [
    "chain.invoke({\"dumps\": dumps})"
   ]
  },
  {
   "cell_type": "code",
   "execution_count": 20,
   "metadata": {},
   "outputs": [],
   "source": [
    "import base64\n",
    "from io import BytesIO\n",
    "from IPython.display import HTML, display\n",
    "from PIL import Image"
   ]
  },
  {
   "cell_type": "code",
   "execution_count": 21,
   "metadata": {},
   "outputs": [],
   "source": [
    "def convert_to_base64(pil_image):\n",
    "    buffered = BytesIO()\n",
    "    pil_image.save(buffered, format=\"JPEG\")\n",
    "    img_str = base64.b64encode(buffered.getvalue()).decode(\"utf-8\")\n",
    "    return img_str"
   ]
  },
  {
   "cell_type": "code",
   "execution_count": 22,
   "metadata": {},
   "outputs": [],
   "source": [
    "def plt_img_base64(img_base64):\n",
    "    image_html = f'<img src=\"data:image/jpeg;base64,{img_base64}\" />'\n",
    "    display(HTML(image_html))"
   ]
  },
  {
   "cell_type": "code",
   "execution_count": 23,
   "metadata": {},
   "outputs": [],
   "source": [
    "file_path = \"./imgs/sample01.webp\"\n",
    "pil_image = Image.open(file_path)\n",
    "pil_image = pil_image.resize((256, 256))"
   ]
  },
  {
   "cell_type": "code",
   "execution_count": 24,
   "metadata": {},
   "outputs": [
    {
     "data": {
      "text/html": [
       "<img src=\"data:image/jpeg;base64,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\" />"
      ],
      "text/plain": [
       "<IPython.core.display.HTML object>"
      ]
     },
     "metadata": {},
     "output_type": "display_data"
    }
   ],
   "source": [
    "image_b64 = convert_to_base64(pil_image)\n",
    "plt_img_base64(image_b64)"
   ]
  },
  {
   "cell_type": "code",
   "execution_count": 25,
   "metadata": {},
   "outputs": [],
   "source": [
    "from langchain_core.output_parsers import StrOutputParser\n",
    "from langchain_community.chat_models import ChatOllama\n",
    "from langchain_core.messages import HumanMessage"
   ]
  },
  {
   "cell_type": "code",
   "execution_count": 26,
   "metadata": {},
   "outputs": [],
   "source": [
    "llm = ChatOllama(model=\"llava:7b\", temperature=0)"
   ]
  },
  {
   "cell_type": "code",
   "execution_count": 27,
   "metadata": {},
   "outputs": [],
   "source": [
    "def prompt_func(data):  # 프롬프트 함수를 정의합니다.\n",
    "    text = data[\"text\"]  # 데이터에서 텍스트를 가져옵니다.\n",
    "    image = data[\"image\"]  # 데이터에서 이미지를 가져옵니다.\n",
    "\n",
    "    image_part = {  # 이미지 부분을 정의합니다.\n",
    "        \"type\": \"image_url\",  # 이미지 URL 타입을 지정합니다.\n",
    "        \"image_url\": f\"data:image/jpeg;base64,{image}\",  # 이미지 URL을 생성합니다.\n",
    "    }\n",
    "\n",
    "    content_parts = []  # 콘텐츠 부분을 저장할 리스트를 초기화합니다.\n",
    "\n",
    "    text_part = {\"type\": \"text\", \"text\": text}  # 텍스트 부분을 정의합니다.\n",
    "\n",
    "    content_parts.append(image_part)  # 이미지 부분을 콘텐츠 부분에 추가합니다.\n",
    "    content_parts.append(text_part)  # 텍스트 부분을 콘텐츠 부분에 추가합니다.\n",
    "\n",
    "    return [HumanMessage(content=content_parts)]  # HumanMessage 객체를 반환합니다."
   ]
  },
  {
   "cell_type": "code",
   "execution_count": 28,
   "metadata": {},
   "outputs": [],
   "source": [
    "chain = prompt_func | llm | StrOutputParser()"
   ]
  },
  {
   "cell_type": "code",
   "execution_count": 29,
   "metadata": {},
   "outputs": [
    {
     "data": {
      "text/plain": [
       "' - The image shows a screenshot of a smartphone interface with a music player application open.\\n- The app is displaying a song with the title \"밝은 아침\" by an artist named \"빅스타일\".\\n- There are two options visible on the screen: \"Clear\" and \"Submit\".\\n- The \"Clear\" button is highlighted, suggesting it\\'s currently selected.\\n- The interface includes a playback bar at the bottom of the screen with a progress indicator showing that the song has been played for 1 minute and 20 seconds.\\n- There are Korean characters on the screen, indicating that the user interface is in Korean.\\n- The overall style of the image is digital and modern, typical of smartphone applications. '"
      ]
     },
     "execution_count": 29,
     "metadata": {},
     "output_type": "execute_result"
    }
   ],
   "source": [
    "query_chain = chain.invoke(\n",
    "    {\"text\": \"Describe a picture in bullet points.\", \"image\": image_b64}\n",
    ")\n",
    "query_chain"
   ]
  }
 ],
 "metadata": {
  "kernelspec": {
   "display_name": ".venv",
   "language": "python",
   "name": "python3"
  },
  "language_info": {
   "codemirror_mode": {
    "name": "ipython",
    "version": 3
   },
   "file_extension": ".py",
   "mimetype": "text/x-python",
   "name": "python",
   "nbconvert_exporter": "python",
   "pygments_lexer": "ipython3",
   "version": "3.10.6"
  }
 },
 "nbformat": 4,
 "nbformat_minor": 2
}
