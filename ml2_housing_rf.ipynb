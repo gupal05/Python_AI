{
 "cells": [
  {
   "cell_type": "code",
   "execution_count": 3,
   "metadata": {},
   "outputs": [
    {
     "name": "stdout",
     "output_type": "stream",
     "text": [
      "랜덤 포레스트 - MSE : 28.63, R2 : 0.66\n",
      "Linear Regression - MSE : 36.34, R2 : 0.57\n",
      "Decision Tree - MSE : 27.30, R2 : 0.68\n",
      "\n",
      "최적 모델 :  Decision Tree\n"
     ]
    },
    {
     "name": "stderr",
     "output_type": "stream",
     "text": [
      "c:\\AIProject\\.venv\\lib\\site-packages\\IPython\\core\\pylabtools.py:170: UserWarning: Glyph 47784 (\\N{HANGUL SYLLABLE MO}) missing from font(s) DejaVu Sans.\n",
      "  fig.canvas.print_figure(bytes_io, **kw)\n",
      "c:\\AIProject\\.venv\\lib\\site-packages\\IPython\\core\\pylabtools.py:170: UserWarning: Glyph 45944 (\\N{HANGUL SYLLABLE DEL}) missing from font(s) DejaVu Sans.\n",
      "  fig.canvas.print_figure(bytes_io, **kw)\n",
      "c:\\AIProject\\.venv\\lib\\site-packages\\IPython\\core\\pylabtools.py:170: UserWarning: Glyph 48324 (\\N{HANGUL SYLLABLE BYEOL}) missing from font(s) DejaVu Sans.\n",
      "  fig.canvas.print_figure(bytes_io, **kw)\n",
      "c:\\AIProject\\.venv\\lib\\site-packages\\IPython\\core\\pylabtools.py:170: UserWarning: Glyph 48708 (\\N{HANGUL SYLLABLE BI}) missing from font(s) DejaVu Sans.\n",
      "  fig.canvas.print_figure(bytes_io, **kw)\n",
      "c:\\AIProject\\.venv\\lib\\site-packages\\IPython\\core\\pylabtools.py:170: UserWarning: Glyph 44368 (\\N{HANGUL SYLLABLE GYO}) missing from font(s) DejaVu Sans.\n",
      "  fig.canvas.print_figure(bytes_io, **kw)\n"
     ]
    },
    {
     "data": {
      "image/png": "[encoded data removed]",
      "text/plain": [
       "<Figure size 1000x600 with 1 Axes>"
      ]
     },
     "metadata": {},
     "output_type": "display_data"
    },
    {
     "name": "stdout",
     "output_type": "stream",
     "text": [
      "\n",
      "최적 하이퍼파라미터 :  {'max_depth': None, 'min_samples_split': 5, 'n_estimators': 50}\n",
      "튜닝된 랜덤 포레스트 - MSE : 28.63, R2: 0.66\n"
     ]
    }
   ],
   "source": [
    "import pandas as pd\n",
    "import numpy as np\n",
    "from sklearn.model_selection import train_test_split, GridSearchCV\n",
    "from sklearn.ensemble import RandomForestRegressor\n",
    "from sklearn.linear_model import LinearRegression\n",
    "from sklearn.tree import DecisionTreeRegressor\n",
    "from sklearn.svm import SVR\n",
    "from sklearn.metrics import mean_squared_error, r2_score\n",
    "import matplotlib.pyplot as plt\n",
    "\n",
    "# 데이터 로드\n",
    "data = pd.read_csv('dataset/HousingData.csv')\n",
    "\n",
    "# 데이터 전처리\n",
    "data = data.dropna() # 결측값 제거\n",
    "X = data[['CRIM', 'ZN', 'INDUS', 'RM', 'AGE', 'DIS', 'TAX', 'LSTAT']]\n",
    "y = data['MEDV']\n",
    "\n",
    "# 데이터 분할\n",
    "X_train, X_test, y_train, y_test = train_test_split(X, y, test_size=0.2, random_state=42)\n",
    "\n",
    "# 1. 랜덤 포레스트 모델\n",
    "rf_model = RandomForestRegressor(random_state=42, n_estimators=100) # n_estimators : 모델을 구성하는 경정 틀의 갯수 수\n",
    "rf_model.fit(X_train, y_train) # fit : 자동 학습\n",
    "rf_y_pred = rf_model.predict(X_test) # predict : 결과값 예측\n",
    "\n",
    "# 랜덤 포레스트 평가\n",
    "rf_mse = mean_squared_error(y_test, rf_y_pred)\n",
    "rf_r2 = r2_score(y_test, rf_y_pred)\n",
    "print(f\"랜덤 포레스트 - MSE : {rf_mse:.2f}, R2 : {rf_r2:.2f}\")\n",
    "\n",
    "# 2. 다른 모델 비교\n",
    "models = {\n",
    "    \"Linear Regression\" : LinearRegression(),\n",
    "    \"Decision Tree\" : DecisionTreeRegressor(random_state=42)\n",
    "}\n",
    "\n",
    "result = {}\n",
    "for name, model in models.items():\n",
    "    model.fit(X_train, y_train)\n",
    "    y_pred = model.predict(X_test)\n",
    "    mse = mean_squared_error(y_test, y_pred)\n",
    "    r2 = r2_score(y_test, y_pred)\n",
    "    result[name] = {\"MSE\":mse, \"R2\":r2}\n",
    "    print(f\"{name} - MSE : {mse:.2f}, R2 : {r2:.2f}\")\n",
    "    \n",
    "# 3. 최적 모델 선택 및 시각화\n",
    "result[\"Random Forest\"] = {\"MSE\":rf_mse, \"R2\":rf_r2}\n",
    "best_model = max(result, key=lambda x: result[x]['R2'])\n",
    "print(\"\\n최적 모델 : \", best_model)\n",
    "\n",
    "# 결과 시각화\n",
    "r2_scores = [result[\"R2\"] for result in result.values()]\n",
    "model_names = list(result.keys())\n",
    "plt.figure(figsize=(10, 6))\n",
    "plt.bar(model_names, r2_scores, color='skyblue')\n",
    "plt.xlabel(\"모델\")\n",
    "plt.ylabel(\"R2 Score\")\n",
    "plt.title(\"모델별 R2 Score 비교\")\n",
    "plt.grid(axis='y')\n",
    "plt.show()\n",
    "\n",
    "# 4. 랜덤 포레스트 하이퍼파라미터 튜닝 (옵션)\n",
    "param_grid = {\n",
    "    'n_estimators' : [50, 100, 200], # 갯수\n",
    "    'max_depth' : [None, 10, 20], # 깊이\n",
    "    'min_samples_split' : [2, 5, 10]\n",
    "}\n",
    "grid_search = GridSearchCV(estimator=RandomForestRegressor(random_state=42), param_grid=param_grid, cv=3, scoring='r2')\n",
    "grid_search.fit(X_train, y_train)\n",
    "print(\"\\n최적 하이퍼파라미터 : \", grid_search.best_params_)\n",
    "best_rf_model = grid_search.best_estimator_\n",
    "tuned_rf_y_pred = best_rf_model.predict(X_test)\n",
    "\n",
    "#튜닝된 모델 평가\n",
    "tuned_rf_mse = mean_squared_error(y_test, tuned_rf_y_pred)\n",
    "tuned_rf_r2 = r2_score(y_test, tuned_rf_y_pred)\n",
    "print(f\"튜닝된 랜덤 포레스트 - MSE : {tuned_rf_mse:.2f}, R2: {tuned_rf_r2:.2f}\")"
   ]
  }
 ],
 "metadata": {
  "kernelspec": {
   "display_name": ".venv",
   "language": "python",
   "name": "python3"
  },
  "language_info": {
   "codemirror_mode": {
    "name": "ipython",
    "version": 3
   },
   "file_extension": ".py",
   "mimetype": "text/x-python",
   "name": "python",
   "nbconvert_exporter": "python",
   "pygments_lexer": "ipython3",
   "version": "3.10.6"
  }
 },
 "nbformat": 4,
 "nbformat_minor": 2
}
