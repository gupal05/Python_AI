{
 "cells": [
  {
   "cell_type": "code",
   "execution_count": null,
   "metadata": {},
   "outputs": [
    {
     "name": "stderr",
     "output_type": "stream",
     "text": [
      "c:\\AIProject\\.venv\\lib\\site-packages\\IPython\\core\\pylabtools.py:170: UserWarning: Glyph 49892 (\\N{HANGUL SYLLABLE SIL}) missing from font(s) DejaVu Sans.\n",
      "  fig.canvas.print_figure(bytes_io, **kw)\n",
      "c:\\AIProject\\.venv\\lib\\site-packages\\IPython\\core\\pylabtools.py:170: UserWarning: Glyph 51228 (\\N{HANGUL SYLLABLE JE}) missing from font(s) DejaVu Sans.\n",
      "  fig.canvas.print_figure(bytes_io, **kw)\n",
      "c:\\AIProject\\.venv\\lib\\site-packages\\IPython\\core\\pylabtools.py:170: UserWarning: Glyph 44050 (\\N{HANGUL SYLLABLE GABS}) missing from font(s) DejaVu Sans.\n",
      "  fig.canvas.print_figure(bytes_io, **kw)\n",
      "c:\\AIProject\\.venv\\lib\\site-packages\\IPython\\core\\pylabtools.py:170: UserWarning: Glyph 54844 (\\N{HANGUL SYLLABLE HON}) missing from font(s) DejaVu Sans.\n",
      "  fig.canvas.print_figure(bytes_io, **kw)\n",
      "c:\\AIProject\\.venv\\lib\\site-packages\\IPython\\core\\pylabtools.py:170: UserWarning: Glyph 46041 (\\N{HANGUL SYLLABLE DONG}) missing from font(s) DejaVu Sans.\n",
      "  fig.canvas.print_figure(bytes_io, **kw)\n",
      "c:\\AIProject\\.venv\\lib\\site-packages\\IPython\\core\\pylabtools.py:170: UserWarning: Glyph 54665 (\\N{HANGUL SYLLABLE HAENG}) missing from font(s) DejaVu Sans.\n",
      "  fig.canvas.print_figure(bytes_io, **kw)\n",
      "c:\\AIProject\\.venv\\lib\\site-packages\\IPython\\core\\pylabtools.py:170: UserWarning: Glyph 47148 (\\N{HANGUL SYLLABLE RYEOL}) missing from font(s) DejaVu Sans.\n",
      "  fig.canvas.print_figure(bytes_io, **kw)\n",
      "c:\\AIProject\\.venv\\lib\\site-packages\\IPython\\core\\pylabtools.py:170: UserWarning: Glyph 50696 (\\N{HANGUL SYLLABLE YE}) missing from font(s) DejaVu Sans.\n",
      "  fig.canvas.print_figure(bytes_io, **kw)\n",
      "c:\\AIProject\\.venv\\lib\\site-packages\\IPython\\core\\pylabtools.py:170: UserWarning: Glyph 52769 (\\N{HANGUL SYLLABLE CEUG}) missing from font(s) DejaVu Sans.\n",
      "  fig.canvas.print_figure(bytes_io, **kw)\n"
     ]
    },
    {
     "data": {
      "image/png": "[encoded data removed]",
      "text/plain": [
       "<Figure size 800x600 with 2 Axes>"
      ]
     },
     "metadata": {},
     "output_type": "display_data"
    },
    {
     "name": "stdout",
     "output_type": "stream",
     "text": [
      "\n",
      "새로운 환자 데이터 예측 예시 : \n",
      "예측 결과 : 정상\n",
      "당뇨병일 확룰 : 31.00%\n",
      "\n",
      "예측 신뢰도 분포:\n"
     ]
    },
    {
     "name": "stderr",
     "output_type": "stream",
     "text": [
      "c:\\AIProject\\.venv\\lib\\site-packages\\IPython\\core\\pylabtools.py:170: UserWarning: Glyph 48712 (\\N{HANGUL SYLLABLE BIN}) missing from font(s) DejaVu Sans.\n",
      "  fig.canvas.print_figure(bytes_io, **kw)\n",
      "c:\\AIProject\\.venv\\lib\\site-packages\\IPython\\core\\pylabtools.py:170: UserWarning: Glyph 46020 (\\N{HANGUL SYLLABLE DO}) missing from font(s) DejaVu Sans.\n",
      "  fig.canvas.print_figure(bytes_io, **kw)\n",
      "c:\\AIProject\\.venv\\lib\\site-packages\\IPython\\core\\pylabtools.py:170: UserWarning: Glyph 50696 (\\N{HANGUL SYLLABLE YE}) missing from font(s) DejaVu Sans.\n",
      "  fig.canvas.print_figure(bytes_io, **kw)\n",
      "c:\\AIProject\\.venv\\lib\\site-packages\\IPython\\core\\pylabtools.py:170: UserWarning: Glyph 52769 (\\N{HANGUL SYLLABLE CEUG}) missing from font(s) DejaVu Sans.\n",
      "  fig.canvas.print_figure(bytes_io, **kw)\n",
      "c:\\AIProject\\.venv\\lib\\site-packages\\IPython\\core\\pylabtools.py:170: UserWarning: Glyph 49888 (\\N{HANGUL SYLLABLE SIN}) missing from font(s) DejaVu Sans.\n",
      "  fig.canvas.print_figure(bytes_io, **kw)\n",
      "c:\\AIProject\\.venv\\lib\\site-packages\\IPython\\core\\pylabtools.py:170: UserWarning: Glyph 47280 (\\N{HANGUL SYLLABLE ROE}) missing from font(s) DejaVu Sans.\n",
      "  fig.canvas.print_figure(bytes_io, **kw)\n",
      "c:\\AIProject\\.venv\\lib\\site-packages\\IPython\\core\\pylabtools.py:170: UserWarning: Glyph 48516 (\\N{HANGUL SYLLABLE BUN}) missing from font(s) DejaVu Sans.\n",
      "  fig.canvas.print_figure(bytes_io, **kw)\n",
      "c:\\AIProject\\.venv\\lib\\site-packages\\IPython\\core\\pylabtools.py:170: UserWarning: Glyph 54252 (\\N{HANGUL SYLLABLE PO}) missing from font(s) DejaVu Sans.\n",
      "  fig.canvas.print_figure(bytes_io, **kw)\n"
     ]
    },
    {
     "data": {
      "image/png": "[encoded data removed]",
      "text/plain": [
       "<Figure size 1000x600 with 1 Axes>"
      ]
     },
     "metadata": {},
     "output_type": "display_data"
    }
   ],
   "source": [
    "import pandas as pd\n",
    "from sklearn.model_selection import train_test_split, cross_val_score\n",
    "from sklearn.ensemble import RandomForestClassifier\n",
    "from sklearn.preprocessing import StandardScaler\n",
    "from sklearn.metrics import classification_report, confusion_matrix\n",
    "import matplotlib.pyplot as plt\n",
    "import seaborn as sns\n",
    "import numpy as np\n",
    "\n",
    "# 데이터 로드\n",
    "data = pd.read_csv('./dataset/diabetes.csv')\n",
    "\n",
    "# 특성(X)과 타겟(Y) 분리\n",
    "X = data.drop('Outcome', axis=1)\n",
    "Y = data['Outcome']\n",
    "# print(data.head())  # 데이터 확인\n",
    "\n",
    "# 데이터 전처리 : 특성 스케일링\n",
    "scaler = StandardScaler()  # StandardScaler 임포트 확인\n",
    "X_scaled = scaler.fit_transform(X)  # 스케일링 적용\n",
    "X_scaled = pd.DataFrame(X_scaled, columns=X.columns)  # DataFrame으로 변환\n",
    "\n",
    "# X_scaled가 제대로 변환되었는지 확인\n",
    "# print(X_scaled.head())\n",
    "\n",
    "# 데이터 분할\n",
    "X_train, X_test, Y_train, Y_test = train_test_split(X_scaled, Y, test_size=0.2, random_state=42)\n",
    "\n",
    "#랜덤 포레스트 모델 생성 및 학습\n",
    "rf_model = RandomForestClassifier(n_estimators=100, random_state=42)\n",
    "rf_model.fit(X_train, Y_train)\n",
    "\n",
    "# 예측\n",
    "y_pred = rf_model.predict(X_test)\n",
    "\n",
    "# 교차 검증 수행\n",
    "cv_scores = cross_val_score(rf_model, X_scaled, Y, cv = 5)\n",
    "\n",
    "# 특성 중요도 계산\n",
    "feature_importance = pd.DataFrame({\n",
    "    '특성' : X.columns,\n",
    "    '중요도' : rf_model.feature_importances_\n",
    "}).sort_values('중요도', ascending=False)\n",
    "\n",
    "# 결과 출력\n",
    "# print(\"모델 성능 평가\")\n",
    "# print(\"\\n교차 검증 점수 : \")\n",
    "# print(f\"평균 정확도 : {cv_scores.mean():.4f} (+/- {cv_scores.std() * 2:.4f})\")\n",
    "# print(\"\\n분류 리포트 : \")\n",
    "# print(classification_report(Y_test, y_pred))\n",
    "\n",
    "# # 특성 중요도 시각화\n",
    "# plt.figure(figsize=(10, 6))\n",
    "# sns.barplot(x='중요도', y='특성', data = feature_importance)\n",
    "# plt.title('특성 중요도')\n",
    "# plt.show()\n",
    "\n",
    "# 혼동 행렬 시각화\n",
    "plt.figure(figsize=(8, 6))\n",
    "cm = confusion_matrix(Y_test, y_pred)\n",
    "sns.heatmap(cm, annot=True, fmt='d', cmap='Blues')\n",
    "plt.title(\"혼동 행렬\")\n",
    "plt.xlabel(\"예측값\")\n",
    "plt.ylabel(\"실제값\")\n",
    "plt.show()\n",
    "\n",
    "# 새로운 환자 데이터로 예측 예시\n",
    "print(\"\\n새로운 환자 데이터 예측 예시 : \")\n",
    "# 임의의 환자 데이터 생성\n",
    "new_patient = X_test.iloc[0:1]\n",
    "prediction = rf_model.predict(new_patient)\n",
    "prediction_prob = rf_model.predict_proba(new_patient)\n",
    "\n",
    "print(f\"예측 결과 : {'당뇨병 환자' if prediction[0] == 1 else '정상'}\")\n",
    "print(f\"당뇨병일 확룰 : {prediction_prob[0][1]:.2%}\")\n",
    "\n",
    "# 예측 신뢰도 분석\n",
    "threshold_probs = rf_model.predict_proba(X_test)\n",
    "confidence_scores = np.max(threshold_probs, axis=1)\n",
    "\n",
    "print(\"\\n예측 신뢰도 분포:\")\n",
    "plt.figure(figsize=(10, 6))\n",
    "sns.histplot(confidence_scores, bins=20)\n",
    "plt.title('예측 신뢰도 분포')\n",
    "plt.xlabel('신뢰도')\n",
    "plt.ylabel('빈도')\n",
    "plt.show()\n",
    "\n"
   ]
  }
 ],
 "metadata": {
  "kernelspec": {
   "display_name": ".venv",
   "language": "python",
   "name": "python3"
  },
  "language_info": {
   "codemirror_mode": {
    "name": "ipython",
    "version": 3
   },
   "file_extension": ".py",
   "mimetype": "text/x-python",
   "name": "python",
   "nbconvert_exporter": "python",
   "pygments_lexer": "ipython3",
   "version": "3.10.6"
  }
 },
 "nbformat": 4,
 "nbformat_minor": 2
}
