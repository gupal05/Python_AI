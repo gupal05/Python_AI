{
 "cells": [
  {
   "cell_type": "code",
   "execution_count": 10,
   "metadata": {},
   "outputs": [],
   "source": [
    "import pandas as pd\n",
    "import numpy as np\n",
    "from sklearn.model_selection import train_test_split, GridSearchCV\n",
    "from sklearn.ensemble import RandomForestRegressor\n",
    "from sklearn.linear_model import LinearRegression\n",
    "from sklearn.tree import DecisionTreeRegressor\n",
    "from sklearn.svm import SVR\n",
    "from sklearn.metrics import mean_squared_error, r2_score\n",
    "import matplotlib.pyplot as plt\n",
    "from sklearn.metrics import accuracy_score\n",
    "import joblib #많은 양의 데이터를 학습 시킬 때 피클 파일로 저장하는 lib\n",
    "import streamlit as st # 8501 port 사용\n",
    "import seaborn as sns"
   ]
  },
  {
   "cell_type": "code",
   "execution_count": 11,
   "metadata": {},
   "outputs": [],
   "source": [
    "# 폰트 지정\n",
    "plt.rcParams['font.family'] = 'Malgun Gothic'\n",
    "\n",
    "# 마이너스 부호 깨짐 지정\n",
    "plt.rcParams['axes.unicode_minus'] = False\n",
    "\n",
    "# 데이터 로드\n",
    "data = pd.read_csv('dataset/data.csv')\n",
    "\n",
    "data = data.dropna()  # 결측값 제거\n",
    "\n",
    "# Date 컬럼을 'YYYYMMDD' 형식으로 변경 (datetime 형식으로 변환 후 형식 지정)\n",
    "data['Date'] = pd.to_datetime(data['Date'], errors='coerce', utc=True)  # 'Date' 컬럼을 datetime 형식으로 변환, 시간대 처리\n",
    "data['Date'] = data['Date'].dt.strftime('%Y%m%d')  # 'YYYYMMDD' 형식으로 변환"
   ]
  },
  {
   "cell_type": "code",
   "execution_count": 12,
   "metadata": {},
   "outputs": [
    {
     "data": {
      "text/html": [
       "<div>\n",
       "<style scoped>\n",
       "    .dataframe tbody tr th:only-of-type {\n",
       "        vertical-align: middle;\n",
       "    }\n",
       "\n",
       "    .dataframe tbody tr th {\n",
       "        vertical-align: top;\n",
       "    }\n",
       "\n",
       "    .dataframe thead th {\n",
       "        text-align: right;\n",
       "    }\n",
       "</style>\n",
       "<table border=\"1\" class=\"dataframe\">\n",
       "  <thead>\n",
       "    <tr style=\"text-align: right;\">\n",
       "      <th></th>\n",
       "      <th>Date</th>\n",
       "      <th>Open</th>\n",
       "      <th>High</th>\n",
       "      <th>Low</th>\n",
       "      <th>Close</th>\n",
       "      <th>Volume</th>\n",
       "      <th>Dividends</th>\n",
       "      <th>Stock Splits</th>\n",
       "    </tr>\n",
       "  </thead>\n",
       "  <tbody>\n",
       "    <tr>\n",
       "      <th>0</th>\n",
       "      <td>19800317</td>\n",
       "      <td>0.181500</td>\n",
       "      <td>0.184404</td>\n",
       "      <td>0.181500</td>\n",
       "      <td>0.181500</td>\n",
       "      <td>10924800</td>\n",
       "      <td>0.0</td>\n",
       "      <td>0.0</td>\n",
       "    </tr>\n",
       "    <tr>\n",
       "      <th>1</th>\n",
       "      <td>19800318</td>\n",
       "      <td>0.181500</td>\n",
       "      <td>0.182952</td>\n",
       "      <td>0.180048</td>\n",
       "      <td>0.180048</td>\n",
       "      <td>17068800</td>\n",
       "      <td>0.0</td>\n",
       "      <td>0.0</td>\n",
       "    </tr>\n",
       "    <tr>\n",
       "      <th>2</th>\n",
       "      <td>19800319</td>\n",
       "      <td>0.184404</td>\n",
       "      <td>0.187308</td>\n",
       "      <td>0.184404</td>\n",
       "      <td>0.184404</td>\n",
       "      <td>18508800</td>\n",
       "      <td>0.0</td>\n",
       "      <td>0.0</td>\n",
       "    </tr>\n",
       "    <tr>\n",
       "      <th>3</th>\n",
       "      <td>19800320</td>\n",
       "      <td>0.184403</td>\n",
       "      <td>0.186581</td>\n",
       "      <td>0.183678</td>\n",
       "      <td>0.183678</td>\n",
       "      <td>11174400</td>\n",
       "      <td>0.0</td>\n",
       "      <td>0.0</td>\n",
       "    </tr>\n",
       "    <tr>\n",
       "      <th>4</th>\n",
       "      <td>19800321</td>\n",
       "      <td>0.180048</td>\n",
       "      <td>0.180048</td>\n",
       "      <td>0.177143</td>\n",
       "      <td>0.177143</td>\n",
       "      <td>12172800</td>\n",
       "      <td>0.0</td>\n",
       "      <td>0.0</td>\n",
       "    </tr>\n",
       "  </tbody>\n",
       "</table>\n",
       "</div>"
      ],
      "text/plain": [
       "       Date      Open      High       Low     Close    Volume  Dividends  \\\n",
       "0  19800317  0.181500  0.184404  0.181500  0.181500  10924800        0.0   \n",
       "1  19800318  0.181500  0.182952  0.180048  0.180048  17068800        0.0   \n",
       "2  19800319  0.184404  0.187308  0.184404  0.184404  18508800        0.0   \n",
       "3  19800320  0.184403  0.186581  0.183678  0.183678  11174400        0.0   \n",
       "4  19800321  0.180048  0.180048  0.177143  0.177143  12172800        0.0   \n",
       "\n",
       "   Stock Splits  \n",
       "0           0.0  \n",
       "1           0.0  \n",
       "2           0.0  \n",
       "3           0.0  \n",
       "4           0.0  "
      ]
     },
     "execution_count": 12,
     "metadata": {},
     "output_type": "execute_result"
    }
   ],
   "source": [
    "# 데이터 전처리\n",
    "data = data.dropna() # 결측값 제거\n",
    "X = data[['Date', 'Open', 'High', 'Low', 'Volume', 'Dividends', 'Stock Splits']] # 독립 변수\n",
    "y = data['Close'] # 종속 변수\n",
    "data.head()"
   ]
  },
  {
   "cell_type": "code",
   "execution_count": 13,
   "metadata": {},
   "outputs": [],
   "source": [
    "# 데이터 분할\n",
    "X_train, X_test, y_train, y_test = train_test_split(X, y, train_size=0.2, random_state=42)"
   ]
  },
  {
   "cell_type": "code",
   "execution_count": 14,
   "metadata": {},
   "outputs": [],
   "source": [
    "# 1. 랜덤 포레스트 모델\n",
    "rf_model = RandomForestRegressor(random_state=42, n_estimators=100) # n_estimators : 모델을 구성하는 경정 틀의 갯수 수\n",
    "rf_model.fit(X_train, y_train) # fit : 자동 학습\n",
    "# 모델 저장\n",
    "joblib.dump(rf_model, 'stock_model.pkl') # 피클 파일로 생성 (변환 시킬 객체, 파일명)\n",
    "\n",
    "rf_y_pred = rf_model.predict(X_test) # predict : 결과값 예측"
   ]
  },
  {
   "cell_type": "code",
   "execution_count": 7,
   "metadata": {},
   "outputs": [
    {
     "name": "stdout",
     "output_type": "stream",
     "text": [
      "랜덤 포레스트 - MSE : 0.06, R2 : 1.00\n"
     ]
    }
   ],
   "source": [
    "# 랜덤 포레스트 평가\n",
    "rf_mse = mean_squared_error(y_test, rf_y_pred)\n",
    "rf_r2 = r2_score(y_test, rf_y_pred)\n",
    "print(f\"랜덤 포레스트 - MSE : {rf_mse:.2f}, R2 : {rf_r2:.2f}\")"
   ]
  },
  {
   "cell_type": "code",
   "execution_count": 15,
   "metadata": {},
   "outputs": [
    {
     "name": "stderr",
     "output_type": "stream",
     "text": [
      "2025-01-06 15:10:38.629 WARNING streamlit.runtime.scriptrunner_utils.script_run_context: Thread 'MainThread': missing ScriptRunContext! This warning can be ignored when running in bare mode.\n",
      "2025-01-06 15:10:38.986 \n",
      "  \u001b[33m\u001b[1mWarning:\u001b[0m to view this Streamlit app on a browser, run it with the following\n",
      "  command:\n",
      "\n",
      "    streamlit run c:\\AIProject\\.venv\\lib\\site-packages\\ipykernel_launcher.py [ARGUMENTS]\n",
      "2025-01-06 15:10:38.987 Thread 'MainThread': missing ScriptRunContext! This warning can be ignored when running in bare mode.\n",
      "2025-01-06 15:10:38.988 Thread 'MainThread': missing ScriptRunContext! This warning can be ignored when running in bare mode.\n",
      "2025-01-06 15:10:38.989 Thread 'MainThread': missing ScriptRunContext! This warning can be ignored when running in bare mode.\n",
      "2025-01-06 15:10:38.990 Thread 'MainThread': missing ScriptRunContext! This warning can be ignored when running in bare mode.\n",
      "2025-01-06 15:10:38.990 Thread 'MainThread': missing ScriptRunContext! This warning can be ignored when running in bare mode.\n"
     ]
    }
   ],
   "source": [
    "# 3. Streamlit 앱\n",
    "st.title('주식 예측 시스템')\n",
    "st.write('Glucose, BMI, Age 값을 입력하여 당뇨병 예측을 해보세요.')"
   ]
  }
 ],
 "metadata": {
  "kernelspec": {
   "display_name": ".venv",
   "language": "python",
   "name": "python3"
  },
  "language_info": {
   "codemirror_mode": {
    "name": "ipython",
    "version": 3
   },
   "file_extension": ".py",
   "mimetype": "text/x-python",
   "name": "python",
   "nbconvert_exporter": "python",
   "pygments_lexer": "ipython3",
   "version": "3.10.6"
  }
 },
 "nbformat": 4,
 "nbformat_minor": 2
}
