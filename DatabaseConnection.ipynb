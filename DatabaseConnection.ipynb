{
 "cells": [
  {
   "cell_type": "code",
   "execution_count": 2,
   "metadata": {},
   "outputs": [],
   "source": [
    "import pandas as pd\n",
    "\n",
    "# CSV 파일 경로 설정\n",
    "file_path = \"dataset/diabetes.csv\"\n",
    "\n",
    "# CSV 파일 읽기\n",
    "df = pd.read_csv(file_path)"
   ]
  },
  {
   "cell_type": "code",
   "execution_count": 4,
   "metadata": {},
   "outputs": [
    {
     "data": {
      "text/html": [
       "<div>\n",
       "<style scoped>\n",
       "    .dataframe tbody tr th:only-of-type {\n",
       "        vertical-align: middle;\n",
       "    }\n",
       "\n",
       "    .dataframe tbody tr th {\n",
       "        vertical-align: top;\n",
       "    }\n",
       "\n",
       "    .dataframe thead th {\n",
       "        text-align: right;\n",
       "    }\n",
       "</style>\n",
       "<table border=\"1\" class=\"dataframe\">\n",
       "  <thead>\n",
       "    <tr style=\"text-align: right;\">\n",
       "      <th></th>\n",
       "      <th>Pregnancies</th>\n",
       "      <th>Glucose</th>\n",
       "      <th>BloodPressure</th>\n",
       "      <th>SkinThickness</th>\n",
       "      <th>Insulin</th>\n",
       "      <th>BMI</th>\n",
       "      <th>DiabetesPedigreeFunction</th>\n",
       "      <th>Age</th>\n",
       "      <th>Outcome</th>\n",
       "    </tr>\n",
       "  </thead>\n",
       "  <tbody>\n",
       "    <tr>\n",
       "      <th>0</th>\n",
       "      <td>6</td>\n",
       "      <td>148</td>\n",
       "      <td>72</td>\n",
       "      <td>35</td>\n",
       "      <td>0</td>\n",
       "      <td>33.6</td>\n",
       "      <td>0.627</td>\n",
       "      <td>50</td>\n",
       "      <td>1</td>\n",
       "    </tr>\n",
       "    <tr>\n",
       "      <th>1</th>\n",
       "      <td>1</td>\n",
       "      <td>85</td>\n",
       "      <td>66</td>\n",
       "      <td>29</td>\n",
       "      <td>0</td>\n",
       "      <td>26.6</td>\n",
       "      <td>0.351</td>\n",
       "      <td>31</td>\n",
       "      <td>0</td>\n",
       "    </tr>\n",
       "    <tr>\n",
       "      <th>2</th>\n",
       "      <td>8</td>\n",
       "      <td>183</td>\n",
       "      <td>64</td>\n",
       "      <td>0</td>\n",
       "      <td>0</td>\n",
       "      <td>23.3</td>\n",
       "      <td>0.672</td>\n",
       "      <td>32</td>\n",
       "      <td>1</td>\n",
       "    </tr>\n",
       "    <tr>\n",
       "      <th>3</th>\n",
       "      <td>1</td>\n",
       "      <td>89</td>\n",
       "      <td>66</td>\n",
       "      <td>23</td>\n",
       "      <td>94</td>\n",
       "      <td>28.1</td>\n",
       "      <td>0.167</td>\n",
       "      <td>21</td>\n",
       "      <td>0</td>\n",
       "    </tr>\n",
       "    <tr>\n",
       "      <th>4</th>\n",
       "      <td>0</td>\n",
       "      <td>137</td>\n",
       "      <td>40</td>\n",
       "      <td>35</td>\n",
       "      <td>168</td>\n",
       "      <td>43.1</td>\n",
       "      <td>2.288</td>\n",
       "      <td>33</td>\n",
       "      <td>1</td>\n",
       "    </tr>\n",
       "  </tbody>\n",
       "</table>\n",
       "</div>"
      ],
      "text/plain": [
       "   Pregnancies  Glucose  BloodPressure  SkinThickness  Insulin   BMI  \\\n",
       "0            6      148             72             35        0  33.6   \n",
       "1            1       85             66             29        0  26.6   \n",
       "2            8      183             64              0        0  23.3   \n",
       "3            1       89             66             23       94  28.1   \n",
       "4            0      137             40             35      168  43.1   \n",
       "\n",
       "   DiabetesPedigreeFunction  Age  Outcome  \n",
       "0                     0.627   50        1  \n",
       "1                     0.351   31        0  \n",
       "2                     0.672   32        1  \n",
       "3                     0.167   21        0  \n",
       "4                     2.288   33        1  "
      ]
     },
     "execution_count": 4,
     "metadata": {},
     "output_type": "execute_result"
    }
   ],
   "source": [
    "# 데이터프레임 확인\n",
    "df.head()"
   ]
  },
  {
   "cell_type": "code",
   "execution_count": 6,
   "metadata": {},
   "outputs": [],
   "source": [
    "# pymysql 설치 : pip install pymysql\n",
    "import pymysql"
   ]
  },
  {
   "cell_type": "code",
   "execution_count": 8,
   "metadata": {},
   "outputs": [],
   "source": [
    "# MariaDB 연결 설정\n",
    "def connect_to_mariadb():\n",
    "    return pymysql.connect(\n",
    "        host='localhost',          # MariaDB 서버 주소\n",
    "        user='root',               # 사용자 이름\n",
    "        password='1234',  # 비밀번호\n",
    "        database='test',  # 데이터베이스 이름\n",
    "        charset='utf8mb4'\n",
    "    )"
   ]
  },
  {
   "cell_type": "code",
   "execution_count": 10,
   "metadata": {},
   "outputs": [
    {
     "name": "stdout",
     "output_type": "stream",
     "text": [
      "MariaDB에 연결되었습니다!\n"
     ]
    }
   ],
   "source": [
    "# 연결 테스트\n",
    "connection = connect_to_mariadb()\n",
    "print(\"MariaDB에 연결되었습니다!\")\n",
    "connection.close()"
   ]
  },
  {
   "cell_type": "code",
   "execution_count": 14,
   "metadata": {},
   "outputs": [],
   "source": [
    "# 테이블 및 컬럼 생성\n",
    "def create_table_from_csv(connection, df, table_name):\n",
    "    cursor = connection.cursor()\n",
    "\n",
    "    # 테이블 생성 SQL 동적 생성\n",
    "    columns = []\n",
    "    for col, dtype in zip(df.columns, df.dtypes):\n",
    "        if \"int\" in str(dtype):\n",
    "            col_type = \"INT\"\n",
    "        elif \"float\" in str(dtype):\n",
    "            col_type = \"FLOAT\"\n",
    "        else:\n",
    "            col_type = \"VARCHAR(255)\"  # 문자열 타입 처리\n",
    "        columns.append(f\"`{col}` {col_type}\")\n",
    "\n",
    "    columns_sql = \", \".join(columns)\n",
    "    create_table_sql = f\"CREATE TABLE IF NOT EXISTS `{table_name}` ({columns_sql});\"\n",
    "\n",
    "    # 테이블 생성 실행\n",
    "    cursor.execute(create_table_sql)\n",
    "    connection.commit()\n",
    "    print(f\"테이블 '{table_name}'이(가) 생성되었습니다.\")"
   ]
  },
  {
   "cell_type": "code",
   "execution_count": 15,
   "metadata": {},
   "outputs": [
    {
     "name": "stdout",
     "output_type": "stream",
     "text": [
      "테이블 'diabetes'이(가) 생성되었습니다.\n"
     ]
    }
   ],
   "source": [
    "# 테이블 생성 실행\n",
    "table_name = \"diabetes\"  # 생성할 테이블 이름\n",
    "connection = connect_to_mariadb()\n",
    "create_table_from_csv(connection, df, table_name)\n",
    "connection.close()"
   ]
  },
  {
   "cell_type": "code",
   "execution_count": 18,
   "metadata": {},
   "outputs": [],
   "source": [
    "# CSV 데이터를 MariaDB로 업로드\n",
    "def insert_data_to_table(connection, df, table_name):\n",
    "    cursor = connection.cursor()\n",
    "\n",
    "    # 데이터 삽입 SQL 동적 생성\n",
    "    placeholders = \", \".join([\"%s\"] * len(df.columns))\n",
    "    insert_sql = f\"INSERT INTO `{table_name}` ({', '.join(df.columns)}) VALUES ({placeholders})\"\n",
    "\n",
    "    # 데이터 삽입 실행\n",
    "    for _, row in df.iterrows():\n",
    "        cursor.execute(insert_sql, tuple(row))\n",
    "\n",
    "    connection.commit()\n",
    "    print(f\"테이블 '{table_name}'에 데이터가 삽입되었습니다.\")"
   ]
  },
  {
   "cell_type": "code",
   "execution_count": 20,
   "metadata": {},
   "outputs": [
    {
     "name": "stdout",
     "output_type": "stream",
     "text": [
      "테이블 'diabetes'에 데이터가 삽입되었습니다.\n"
     ]
    }
   ],
   "source": [
    "# 데이터 삽입 실행\n",
    "connection = connect_to_mariadb()\n",
    "insert_data_to_table(connection, df, table_name)\n",
    "connection.close()"
   ]
  },
  {
   "cell_type": "code",
   "execution_count": 29,
   "metadata": {},
   "outputs": [],
   "source": [
    "# MariaDB에서 데이터 읽기\n",
    "def fetch_data_from_table(connection, table_name):\n",
    "    query = f\"SELECT * FROM `{table_name}`\"\n",
    "    df = pd.read_sql(query, connection)\n",
    "    return df"
   ]
  },
  {
   "cell_type": "code",
   "execution_count": 30,
   "metadata": {},
   "outputs": [],
   "source": [
    "# 데이터 읽기\n",
    "connection = connect_to_mariadb()\n",
    "table_name = \"diabetes\""
   ]
  },
  {
   "cell_type": "code",
   "execution_count": 31,
   "metadata": {},
   "outputs": [
    {
     "name": "stderr",
     "output_type": "stream",
     "text": [
      "C:\\Users\\human-13\\AppData\\Local\\Temp\\ipykernel_7668\\4121690364.py:4: UserWarning: pandas only supports SQLAlchemy connectable (engine/connection) or database string URI or sqlite3 DBAPI2 connection. Other DBAPI2 objects are not tested. Please consider using SQLAlchemy.\n",
      "  df = pd.read_sql(query, connection)\n"
     ]
    }
   ],
   "source": [
    "df_from_db = fetch_data_from_table(connection, table_name)"
   ]
  },
  {
   "cell_type": "code",
   "execution_count": 32,
   "metadata": {},
   "outputs": [
    {
     "name": "stdout",
     "output_type": "stream",
     "text": [
      "MariaDB에서 불러온 데이터 : \n",
      "   Pregnancies  Glucose  BloodPressure  SkinThickness  Insulin   BMI  \\\n",
      "0            6      148             72             35        0  33.6   \n",
      "1            1       85             66             29        0  26.6   \n",
      "2            8      183             64              0        0  23.3   \n",
      "3            1       89             66             23       94  28.1   \n",
      "4            0      137             40             35      168  43.1   \n",
      "\n",
      "   DiabetesPedigreeFunction  Age  Outcome  \n",
      "0                     0.627   50        1  \n",
      "1                     0.351   31        0  \n",
      "2                     0.672   32        1  \n",
      "3                     0.167   21        0  \n",
      "4                     2.288   33        1  \n"
     ]
    }
   ],
   "source": [
    "# 데이터 읽기\n",
    "print(\"MariaDB에서 불러온 데이터 : \")\n",
    "print(df_from_db.head())"
   ]
  },
  {
   "cell_type": "code",
   "execution_count": 33,
   "metadata": {},
   "outputs": [],
   "source": [
    "connection.close()"
   ]
  }
 ],
 "metadata": {
  "kernelspec": {
   "display_name": ".venv",
   "language": "python",
   "name": "python3"
  },
  "language_info": {
   "codemirror_mode": {
    "name": "ipython",
    "version": 3
   },
   "file_extension": ".py",
   "mimetype": "text/x-python",
   "name": "python",
   "nbconvert_exporter": "python",
   "pygments_lexer": "ipython3",
   "version": "3.10.6"
  }
 },
 "nbformat": 4,
 "nbformat_minor": 2
}
