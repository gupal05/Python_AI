{
 "cells": [
  {
   "cell_type": "code",
   "execution_count": 1,
   "metadata": {},
   "outputs": [],
   "source": [
    "# 사전 설치 : pip install ollama\n",
    "import pandas as pd\n",
    "import numpy as np\n",
    "import os\n",
    "from langchain.document_loaders import PyMuPDFLoader\n",
    "from langchain_community.embeddings import OllamaEmbeddings\n",
    "import ollama\n",
    "from langchain.vectorstores import FAISS\n",
    "from langchain.chains import RetrievalQA\n",
    "from langchain.chat_models import ChatOpenAI\n",
    "from langchain.retrievers import WikipediaRetriever\n",
    "import warnings"
   ]
  },
  {
   "cell_type": "code",
   "execution_count": 4,
   "metadata": {},
   "outputs": [],
   "source": [
    "def ask_gemma(question):\n",
    "    # ollama를 사용하여 모델로부터 응답 생성\n",
    "    chatbot_role = \"You are a helpful assistant\"\n",
    "    response = ollama.chat(model = \"gemma2\", messages=[\n",
    "        {\"role\" : \"system\", \"content\":chatbot_role}, # 챗봇의 기본 역할 부여\n",
    "        {\"role\" : \"user\", \"content\":question} # 질문 (사용자의 롤 지정?)\n",
    "    ])\n",
    "    \n",
    "    return response['message']['content']"
   ]
  },
  {
   "cell_type": "code",
   "execution_count": 5,
   "metadata": {},
   "outputs": [
    {
     "name": "stdout",
     "output_type": "stream",
     "text": [
      "세계에서 가장 높은 산은 **에베레스트산**입니다. 🏔️  \n",
      "\n",
      "해발 약 8,848.86m로, 네팔과 중국 국경에 위치하고 있습니다. \n",
      "\n"
     ]
    }
   ],
   "source": [
    "question = \"세계에서 가장 높은 산을 알려줘.\"\n",
    "response = ask_gemma(question)\n",
    "print(response)"
   ]
  }
 ],
 "metadata": {
  "kernelspec": {
   "display_name": ".venv",
   "language": "python",
   "name": "python3"
  },
  "language_info": {
   "codemirror_mode": {
    "name": "ipython",
    "version": 3
   },
   "file_extension": ".py",
   "mimetype": "text/x-python",
   "name": "python",
   "nbconvert_exporter": "python",
   "pygments_lexer": "ipython3",
   "version": "3.10.6"
  }
 },
 "nbformat": 4,
 "nbformat_minor": 2
}
