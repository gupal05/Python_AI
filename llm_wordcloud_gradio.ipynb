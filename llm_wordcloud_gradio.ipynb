{
 "cells": [
  {
   "cell_type": "code",
   "execution_count": 12,
   "metadata": {},
   "outputs": [],
   "source": [
    "import gradio as gr\n",
    "from wordcloud import WordCloud\n",
    "import matplotlib.pyplot as plt"
   ]
  },
  {
   "cell_type": "code",
   "execution_count": 13,
   "metadata": {},
   "outputs": [],
   "source": [
    "# 워드 클라우드 생성 함수\n",
    "def generate_wordcloud(file_obj):\n",
    "    try:\n",
    "        # 파일이 없는 경우 처리\n",
    "        if file_obj is None:\n",
    "            return None\n",
    "        \n",
    "        # Gradio의 파일 객체에서 파일 경로 가져오기\n",
    "        file_path = file_obj.name\n",
    "        \n",
    "        # 파일 읽기\n",
    "        with open(file_path, 'r', encoding='utf-8') as file:\n",
    "            text = file.read()\n",
    "        \n",
    "        # 워드클라우드 생성\n",
    "        wordcloud = WordCloud(\n",
    "            font_path='malgun',\n",
    "            background_color='white',\n",
    "            width=800,\n",
    "            height=600,\n",
    "            max_words=200,\n",
    "            max_font_size=100,\n",
    "            min_font_size=10,\n",
    "            random_state=42\n",
    "        ).generate(text)\n",
    "        \n",
    "        # matplotlib 그래프 초기화\n",
    "        plt.clf()\n",
    "        \n",
    "        # 워드클라우드 이미지를 플롯\n",
    "        plt.figure(figsize=(10, 5))\n",
    "        plt.imshow(wordcloud, interpolation='bilinear')\n",
    "        plt.axis('off')\n",
    "        plt.tight_layout()\n",
    "        \n",
    "        # 결과 이미지를 저장\n",
    "        output_path = 'wordcloud.png'\n",
    "        plt.savefig(output_path)\n",
    "        plt.close() # 메모리 누수 방지를 위해 figure 닫기\n",
    "        return output_path\n",
    "        \n",
    "    except Exception as e:\n",
    "        print(f\"Error : {str(e)}\")\n",
    "        return None"
   ]
  },
  {
   "cell_type": "code",
   "execution_count": 16,
   "metadata": {},
   "outputs": [],
   "source": [
    "# Gradio 인터페이스 생성\n",
    "iface = gr.Interface(\n",
    "    fn = generate_wordcloud,\n",
    "    inputs = gr.File(label=\"Upload a .txt file\"),\n",
    "    outputs = gr.Image(type=\"filepath\", label=\"Word Cloud\")\n",
    ")\n"
   ]
  },
  {
   "cell_type": "code",
   "execution_count": 17,
   "metadata": {},
   "outputs": [
    {
     "name": "stdout",
     "output_type": "stream",
     "text": [
      "* Running on local URL:  http://0.0.0.0:7861\n",
      "* Running on public URL: https://acf516b2f626fc7d69.gradio.live\n",
      "\n",
      "This share link expires in 72 hours. For free permanent hosting and GPU upgrades, run `gradio deploy` from the terminal in the working directory to deploy to Hugging Face Spaces (https://huggingface.co/spaces)\n"
     ]
    },
    {
     "data": {
      "text/html": [
       "<div><iframe src=\"https://acf516b2f626fc7d69.gradio.live\" width=\"100%\" height=\"500\" allow=\"autoplay; camera; microphone; clipboard-read; clipboard-write;\" frameborder=\"0\" allowfullscreen></iframe></div>"
      ],
      "text/plain": [
       "<IPython.core.display.HTML object>"
      ]
     },
     "metadata": {},
     "output_type": "display_data"
    },
    {
     "data": {
      "text/plain": []
     },
     "execution_count": 17,
     "metadata": {},
     "output_type": "execute_result"
    }
   ],
   "source": [
    "iface.launch(server_port=7861, share=True, server_name=\"0.0.0.0\")"
   ]
  },
  {
   "cell_type": "code",
   "execution_count": 18,
   "metadata": {},
   "outputs": [
    {
     "name": "stdout",
     "output_type": "stream",
     "text": [
      "Closing server running on port: 7861\n"
     ]
    }
   ],
   "source": [
    "iface.close()"
   ]
  }
 ],
 "metadata": {
  "kernelspec": {
   "display_name": ".venv",
   "language": "python",
   "name": "python3"
  },
  "language_info": {
   "codemirror_mode": {
    "name": "ipython",
    "version": 3
   },
   "file_extension": ".py",
   "mimetype": "text/x-python",
   "name": "python",
   "nbconvert_exporter": "python",
   "pygments_lexer": "ipython3",
   "version": "3.10.6"
  }
 },
 "nbformat": 4,
 "nbformat_minor": 2
}
